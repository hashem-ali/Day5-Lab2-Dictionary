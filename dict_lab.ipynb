{
 "cells": [
  {
   "cell_type": "markdown",
   "id": "c187d4b2",
   "metadata": {},
   "source": [
    "# Day5-Lab2-Dictionary\n"
   ]
  },
  {
   "cell_type": "markdown",
   "id": "181898ec",
   "metadata": {},
   "source": [
    "## Build a phone book program that receives the phone number, and returns the name of the owner. \n",
    "You can follow the table below:\n",
    "\n",
    "| Name    | Number      |\n",
    "| -------- | ---------- |\n",
    "| Amal     | 1111111111 |\n",
    "| Mohammed | 2222222222 |\n",
    "| Khadijah | 3333333333 |\n",
    "| Abdullah | 4444444444 |\n",
    "| Rawan    | 5555555555 |\n",
    "| Faisal   | 6666666666 |\n",
    "| Layla    | 7777777777 |\n",
    "\n",
    "\n"
   ]
  },
  {
   "cell_type": "code",
   "execution_count": 21,
   "id": "6f0be4fb",
   "metadata": {},
   "outputs": [
    {
     "name": "stdout",
     "output_type": "stream",
     "text": [
      "{'Amal': 1111111111, 'Mohammed': 2222222222, 'Khadijah': 3333333333, 'Abdullah': 4444444444, 'Rawan': 5555555555, 'Faisal': 6666666666, 'Layla': 7777777777}\n"
     ]
    }
   ],
   "source": [
    "my_dict = {\"Amal\": 1111111111, \"Mohammed\": 2222222222, \"Khadijah\": 3333333333, \"Abdullah\": 4444444444, \"Rawan\":5555555555, \"Faisal\": 6666666666, \"Layla\": 7777777777}\n",
    "\n",
    "print(my_dict)"
   ]
  },
  {
   "cell_type": "markdown",
   "id": "ccb0b634",
   "metadata": {},
   "source": [
    "- If the number exists, print the owner. Otherwise, print \"Sorry, the number is not found\".\n"
   ]
  },
  {
   "cell_type": "code",
   "execution_count": 25,
   "id": "7868ff67",
   "metadata": {},
   "outputs": [
    {
     "name": "stdout",
     "output_type": "stream",
     "text": [
      "Enter the number1111111111\n",
      "Amal\n"
     ]
    }
   ],
   "source": [
    "num = input(\"Enter the number\")\n",
    "for key, value in my_dict.items():\n",
    "    if value == int(num):\n",
    "        print(key)"
   ]
  },
  {
   "cell_type": "markdown",
   "id": "3eae7b11",
   "metadata": {},
   "source": [
    "- If the number is less or more than 10 numbers, print \"This is invalid number\".\n"
   ]
  },
  {
   "cell_type": "code",
   "execution_count": 26,
   "id": "52d40015",
   "metadata": {},
   "outputs": [
    {
     "name": "stdout",
     "output_type": "stream",
     "text": [
      "Enter the number434ry\n",
      "This is invalid number\n"
     ]
    }
   ],
   "source": [
    "num = input(\"Enter the number\")\n",
    "if len(num) != 10:\n",
    "    print(\"This is invalid number\")"
   ]
  },
  {
   "cell_type": "markdown",
   "id": "bbb36924",
   "metadata": {},
   "source": [
    "- If the number contains letters or symbols, print \"This is invalid number\".\n"
   ]
  },
  {
   "cell_type": "code",
   "execution_count": 27,
   "id": "2ea22bb7",
   "metadata": {},
   "outputs": [
    {
     "name": "stdout",
     "output_type": "stream",
     "text": [
      "Enter the number7474747g%\n",
      "This is invalid number (contains letters or symbols)\n"
     ]
    }
   ],
   "source": [
    "num = input(\"Enter the number\")\n",
    "if num.isdigit() == False: \n",
    "    print (\"This is invalid number (contains letters or symbols)\")\n",
    "        "
   ]
  }
 ],
 "metadata": {
  "kernelspec": {
   "display_name": "Python 3 (ipykernel)",
   "language": "python",
   "name": "python3"
  },
  "language_info": {
   "codemirror_mode": {
    "name": "ipython",
    "version": 3
   },
   "file_extension": ".py",
   "mimetype": "text/x-python",
   "name": "python",
   "nbconvert_exporter": "python",
   "pygments_lexer": "ipython3",
   "version": "3.9.12"
  }
 },
 "nbformat": 4,
 "nbformat_minor": 5
}
